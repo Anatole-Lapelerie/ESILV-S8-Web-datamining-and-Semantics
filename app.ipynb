{
 "cells": [
  {
   "cell_type": "code",
   "execution_count": 21,
   "metadata": {},
   "outputs": [],
   "source": [
    "def GetStarting(latt = None, long = None, departement = None, type_request = None):\n",
    "    \n",
    "    if (type_request == \"tgv_station\"):\n",
    "        return getTrainStationByPosition(latt, long, departement)\n",
    "    \n",
    "    else:\n",
    "        return getUniversitiesByPosition(latt, long, departement)\n",
    "     \n",
    "        \n",
    "def getTrainStationByPosition(latt = None, long = None, departement = None):\n",
    "    \n",
    "    g = rdflib.Graph()\n",
    "    g.namespace_manager.bind('rdf', Namespace('http://www.w3.org/1999/02/22-rdf-syntax-ns#'))\n",
    "    g.namespace_manager.bind('rdfs', Namespace('http://www.w3.org/2000/01/rdf-schema#'))\n",
    "    g.namespace_manager.bind('owl', Namespace('http://www.w3.org/2002/07/owl#'))\n",
    "    g.namespace_manager.bind('tgv', Namespace('http://www.owl-ontologies.com/unnamed.owl#'))\n",
    "    g.parse(\"data/gares-tgv/gares.owl\")\n",
    "    \n",
    "    response = []\n",
    "    euclid = []\n",
    "    ToHtml = \"\"\n",
    "    ToJs = \"\"\n",
    "    \n",
    "    if (departement == None):\n",
    "        query = 'SELECT DISTINCT ?lat ?long ?nomGare  WHERE { ?gare tgv:Latitude ?lat . ?gare tgv:Longitude ?long . ?gare tgv:Nom_Gare ?nomGare }'\n",
    "        res = g.query(query)\n",
    "\n",
    "        for row in res:\n",
    "            element =  row.asdict()\n",
    "            response.append([element['nomGare'].toPython(),element['lat'].toPython(),element['long'].toPython()])\n",
    "        for elt in response:\n",
    "            euclid.append(sqrt( (latt - elt[1])**2 + (long - elt[2])**2))\n",
    "        for i in range(len(euclid)):\n",
    "            response[i].append(euclid[i])\n",
    "        response = sorted(response, key=itemgetter(3))    \n",
    "        \n",
    "        response = response[:10]\n",
    "        print(response)\n",
    "        for i in range(len(response)):\n",
    "            ToHtml += \"<li><b>\" + str(response[i][0]) + \"</b> — lat: \"  + str(response[i][1]) + \"; lon: \" + str(response[i][2]) + \" — \" + str(round(response[i][3]*111, 2)) + \" km</li>\"\n",
    "            ToJs += \"L.marker([\" + str(response[i][1]) + \", \" + str(response[i][2]) + \"]).addTo(mymap).bindPopup('TGV station<br><b>\" + str(response[i][0]) + \"</b><br>lat. \" + str(response[i][1]) + \"; lon: \" + str(response[i][2]) + \"<br>\" + str(round(response[i][3]*111, 2)) + \" km away');\\n\"\n",
    "\n",
    "    else:\n",
    "        query = 'SELECT ?lat ?long ?nomGare  WHERE { ?gare tgv:Latitude ?lat . ?gare tgv:Longitude ?long . ?gare tgv:Nom_Gare ?nomGare . ?gare tgv:NOM_DEP ?nomDep FILTER regex(?nomDep, \"^param\") }'\n",
    "        queryWithDepartement = query.replace(\"param\",departement)\n",
    "        res = g.query(queryWithDepartement)\n",
    "        for row in res:\n",
    "            element =  row.asdict()\n",
    "            response.append([element['nomGare'].toPython(),element['lat'].toPython(),element['long'].toPython()])\n",
    "\n",
    "        #print(response)\n",
    "        for i in range(len(response)):\n",
    "            ToHtml += \"<li><b>\" + str(response[i][0]) + \"</b> — lat: \"  + str(response[i][1]) + \"; lon: \" + str(response[i][2]) + \"</li>\"\n",
    "            ToJs += \"L.marker([\" + str(response[i][1]) + \", \" + str(response[i][2]) + \"]).addTo(mymap).bindPopup('TGV station<br><b>\" + str(response[i][0]) + \"</b><br>lat. \" + str(response[i][1]) + \"; lon: \" + str(response[i][2]) + \"');\\n\"\n",
    "\n",
    "    return (ToHtml, ToJs)\n",
    "\n",
    "\n",
    "def getUniversitiesByPosition(latt = None, long = None, departement = None):\n",
    "    \n",
    "    g = rdflib.Graph()\n",
    "    g.namespace_manager.bind('rdf', Namespace('http://www.w3.org/1999/02/22-rdf-syntax-ns#'))\n",
    "    g.namespace_manager.bind('rdfs', Namespace('http://www.w3.org/2000/01/rdf-schema#'))\n",
    "    g.namespace_manager.bind('owl', Namespace('http://www.w3.org/2002/07/owl#'))\n",
    "    g.namespace_manager.bind('IDF_Univ', Namespace('http://www.owl-ontologies.com/unnamed.owl#'))\n",
    "    g.parse(\"data/universites/universites.owl\")\n",
    "    \n",
    "    response = []\n",
    "    euclid = []\n",
    "    ToHtml = \"\"\n",
    "    ToJs = \"\"\n",
    "    \n",
    "    if (departement == None):\n",
    "        query = 'SELECT DISTINCT ?latitude ?longitude ?nom  WHERE { ?x IDF_Univ:latitude ?latitude . ?x IDF_Univ:longitude ?longitude . ?x IDF_Univ:nom ?nom }'\n",
    "        res = g.query(query)\n",
    "\n",
    "        for row in res:\n",
    "            element =  row.asdict()\n",
    "            response.append([element['nom'].toPython(),element['latitude'].toPython(),element['longitude'].toPython()])\n",
    "        for elt in response:\n",
    "            euclid.append(sqrt( (latt - elt[1])**2 + (long - elt[2])**2))\n",
    "        for i in range(len(euclid)):\n",
    "            response[i].append(euclid[i])\n",
    "        response = sorted(response, key=itemgetter(3))    \n",
    "        \n",
    "        response = response[:8]\n",
    "        print(response)\n",
    "        for i in range(len(response)):\n",
    "            ToHtml += \"<li><b>\" + str(response[i][0]) + \"</b> — lat: \"  + str(response[i][1]) + \"; lon: \" + str(response[i][2]) + \" — \" + str(round(response[i][3]*111, 2)) + \" km</li>\"\n",
    "            ToJs += \"L.marker([\" + str(response[i][1]) + \", \" + str(response[i][2]) + \"]).addTo(mymap).bindPopup('University<br><b>\" + str(response[i][0]) + \"</b><br>lat. \" + str(response[i][1]) + \"; lon: \" + str(response[i][2]) + \"');\\n\"\n",
    "\n",
    "    else:\n",
    "        query = 'SELECT ?latitude ?longitude ?nom  WHERE { ?x IDF_Univ:latitude ?latitude . ?x IDF_Univ:longitude ?longitude . ?x IDF_Univ:nom ?nom . ?x IDF_Univ:dep ?dep FILTER regex(?dep, \"^param\") }'\n",
    "        queryWithDepartement = query.replace(\"param\",departement)\n",
    "        res = g.query(queryWithDepartement)\n",
    "        for row in res:\n",
    "            element =  row.asdict()\n",
    "            response.append([element['nom'].toPython(),element['latitude'].toPython(),element['longitude'].toPython()])\n",
    "\n",
    "        response = response[:8]\n",
    "        #print(response)\n",
    "        for i in range(len(response)):\n",
    "            ToHtml += \"<li><b>\" + str(response[i][0]) + \"</b> — lat: \"  + str(response[i][1]) + \"; lon: \" + str(response[i][2]) + \"</li>\"\n",
    "            ToJs += \"L.marker([\" + str(response[i][1]) + \", \" + str(response[i][2]) + \"]).addTo(mymap).bindPopup('University<br><b>\" + str(response[i][0]) + \"</b><br>lat. \" + str(response[i][1]) + \"; lon: \" + str(response[i][2]) + \"');\\n\"\n",
    "\n",
    "    return (ToHtml, ToJs)"
   ]
  },
  {
   "cell_type": "markdown",
   "metadata": {},
   "source": [
    "## Api Flask"
   ]
  },
  {
   "cell_type": "code",
   "execution_count": 22,
   "metadata": {},
   "outputs": [],
   "source": [
    "from flask import Flask, request, render_template, redirect, url_for, flash, jsonify\n",
    "\n",
    "import pickle\n",
    "import json\n",
    "\n",
    "import rdflib\n",
    "from math import *\n",
    "from rdflib import Namespace\n",
    "import sys\n",
    "from operator import itemgetter"
   ]
  },
  {
   "cell_type": "code",
   "execution_count": null,
   "metadata": {},
   "outputs": [
    {
     "name": "stdout",
     "output_type": "stream",
     "text": [
      " * Serving Flask app \"__main__\" (lazy loading)\n",
      " * Environment: production\n",
      "   WARNING: This is a development server. Do not use it in a production deployment.\n",
      "   Use a production WSGI server instead.\n",
      " * Debug mode: off\n"
     ]
    },
    {
     "name": "stderr",
     "output_type": "stream",
     "text": [
      " * Running on http://127.0.0.1:5000/ (Press CTRL+C to quit)\n",
      "127.0.0.1 - - [26/Mar/2021 15:31:58] \"\u001b[37mGET / HTTP/1.1\u001b[0m\" 200 -\n",
      "127.0.0.1 - - [26/Mar/2021 15:32:04] \"\u001b[37mPOST /result/ HTTP/1.1\u001b[0m\" 200 -\n"
     ]
    },
    {
     "name": "stdout",
     "output_type": "stream",
     "text": [
      "[['Lycee polyvalent Saint Leon', 48.6092, 2.4826, 0.11057757458002178], ['Ecole departementale de theâtre', 48.6110594, 2.4778094, 0.11325463812453974], [\"Institut catholique d'arts et metiers - site de Paris-Senart - ICAM ouvert\", 48.613562040293, 2.5382333993912, 0.11982541393425422], ['Lycee Pierre Mendès France', 48.5965, 2.57648, 0.12313180092892252], [\"CFA Faculte des metiers de l'Essonne - site d'Evry\", 48.6226, 2.45731, 0.12981986019095698], [\"Institut catholique d'arts et metiers - site de Paris-Senart - ICAM integre\", 48.6252085, 2.5624680999999, 0.13992652353948962], [\"Institut catholique d'arts et metiers - site de Paris-Senart - ICAM apprentissage\", 48.631195, 2.551107, 0.14079791715078574], [\"IUT d'Evry (site Evry - Romero - TCE)\", 48.6230733, 2.4295124, 0.14182925976909824]]\n"
     ]
    },
    {
     "name": "stderr",
     "output_type": "stream",
     "text": [
      "127.0.0.1 - - [26/Mar/2021 15:32:10] \"\u001b[37mPOST /result/ HTTP/1.1\u001b[0m\" 200 -\n"
     ]
    },
    {
     "name": "stdout",
     "output_type": "stream",
     "text": [
      "[['Massy TGV', 48.736, 2.291, 0.3152411775133424], ['Massy - Palaiseau', 48.731, 2.243, 0.3455575205374654], ['Paris-Montparnasse', 48.838, 2.317, 0.3843605078568824], ['Paris-Est', 48.871, 2.395, 0.38557230190977365], ['Paris-Nord', 48.881, 2.356, 0.40730455435705626], ['Versailles-Chantiers', 48.797, 2.136, 0.46979250739022876], ['Mantes-la-Jolie', 48.994, 1.721, 0.9224299431393149], ['Boulogne-Ville', 49.607, 2.707, 1.126187373397517], ['Amiens', 49.9, 2.289, 1.4158110749672768], ['Vendôme - Villiers-sur-Loir', 47.799, 1.036, 1.6231749751644153]]\n"
     ]
    },
    {
     "name": "stderr",
     "output_type": "stream",
     "text": [
      "127.0.0.1 - - [26/Mar/2021 15:33:16] \"\u001b[37mPOST /result/ HTTP/1.1\u001b[0m\" 200 -\n"
     ]
    },
    {
     "name": "stdout",
     "output_type": "stream",
     "text": [
      "[['Lycee polyvalent Saint Leon', 48.6092, 2.4826, 0.11057757458002178], ['Ecole departementale de theâtre', 48.6110594, 2.4778094, 0.11325463812453974], [\"Institut catholique d'arts et metiers - site de Paris-Senart - ICAM ouvert\", 48.613562040293, 2.5382333993912, 0.11982541393425422], ['Lycee Pierre Mendès France', 48.5965, 2.57648, 0.12313180092892252], [\"CFA Faculte des metiers de l'Essonne - site d'Evry\", 48.6226, 2.45731, 0.12981986019095698], [\"Institut catholique d'arts et metiers - site de Paris-Senart - ICAM integre\", 48.6252085, 2.5624680999999, 0.13992652353948962], [\"Institut catholique d'arts et metiers - site de Paris-Senart - ICAM apprentissage\", 48.631195, 2.551107, 0.14079791715078574], [\"IUT d'Evry (site Evry - Romero - TCE)\", 48.6230733, 2.4295124, 0.14182925976909824]]\n"
     ]
    },
    {
     "name": "stderr",
     "output_type": "stream",
     "text": [
      "127.0.0.1 - - [26/Mar/2021 15:33:25] \"\u001b[37mPOST /result/ HTTP/1.1\u001b[0m\" 200 -\n"
     ]
    },
    {
     "name": "stdout",
     "output_type": "stream",
     "text": [
      "[['Massy TGV', 48.736, 2.291, 0.3152411775133424], ['Massy - Palaiseau', 48.731, 2.243, 0.3455575205374654], ['Paris-Montparnasse', 48.838, 2.317, 0.3843605078568824], ['Paris-Est', 48.871, 2.395, 0.38557230190977365], ['Paris-Nord', 48.881, 2.356, 0.40730455435705626], ['Versailles-Chantiers', 48.797, 2.136, 0.46979250739022876], ['Mantes-la-Jolie', 48.994, 1.721, 0.9224299431393149], ['Boulogne-Ville', 49.607, 2.707, 1.126187373397517], ['Amiens', 49.9, 2.289, 1.4158110749672768], ['Vendôme - Villiers-sur-Loir', 47.799, 1.036, 1.6231749751644153]]\n"
     ]
    },
    {
     "name": "stderr",
     "output_type": "stream",
     "text": [
      "127.0.0.1 - - [26/Mar/2021 15:33:59] \"\u001b[37mPOST /result/ HTTP/1.1\u001b[0m\" 200 -\n"
     ]
    },
    {
     "name": "stdout",
     "output_type": "stream",
     "text": [
      "[['Massy TGV', 48.736, 2.291, 0.3152411775133424], ['Massy - Palaiseau', 48.731, 2.243, 0.3455575205374654], ['Paris-Montparnasse', 48.838, 2.317, 0.3843605078568824], ['Paris-Est', 48.871, 2.395, 0.38557230190977365], ['Paris-Nord', 48.881, 2.356, 0.40730455435705626], ['Versailles-Chantiers', 48.797, 2.136, 0.46979250739022876], ['Mantes-la-Jolie', 48.994, 1.721, 0.9224299431393149], ['Boulogne-Ville', 49.607, 2.707, 1.126187373397517], ['Amiens', 49.9, 2.289, 1.4158110749672768], ['Vendôme - Villiers-sur-Loir', 47.799, 1.036, 1.6231749751644153]]\n"
     ]
    },
    {
     "name": "stderr",
     "output_type": "stream",
     "text": [
      "127.0.0.1 - - [26/Mar/2021 15:34:05] \"\u001b[37mPOST /result/ HTTP/1.1\u001b[0m\" 200 -\n",
      "127.0.0.1 - - [26/Mar/2021 15:34:16] \"\u001b[37mPOST /result/ HTTP/1.1\u001b[0m\" 200 -\n",
      "127.0.0.1 - - [26/Mar/2021 15:34:42] \"\u001b[37mPOST /result/ HTTP/1.1\u001b[0m\" 200 -\n"
     ]
    },
    {
     "name": "stdout",
     "output_type": "stream",
     "text": [
      "[['CFA CAMAS', 48.9673, 2.5717, 0.13568411845164474], ['Lycee Gustave Eiffel', 48.8892, 2.5422, 0.21858060298205695], ['Lycee Albert Schweitzer', 48.899, 2.51118, 0.21974984050051147], ['Lycee Madeleine Vionnet', 48.9043, 2.47433, 0.2325756627422587], ['Lycee Louise Michel', 48.9023, 2.44155, 0.25336079511242837], ['Lycee Jacques Brel', 48.9296, 2.40033, 0.26249622644906795], ['Ecole INFA', 48.8423, 2.48684, 0.2814506628167714], ['Lycee Paul Eluard', 48.9413, 2.36449, 0.283990581005781]]\n"
     ]
    },
    {
     "name": "stderr",
     "output_type": "stream",
     "text": [
      "127.0.0.1 - - [26/Mar/2021 15:36:04] \"\u001b[37mPOST /result/ HTTP/1.1\u001b[0m\" 200 -\n"
     ]
    },
    {
     "name": "stdout",
     "output_type": "stream",
     "text": [
      "[['Institut de formation en soins infirmiers du Centre hospitalier du sud Seine-et-Marne', 48.4121, 2.69783, 0.3270735680240771], ['Lycee Jacques Amyot', 48.5462, 2.65958, 0.4501602119245966], ['Institut de formation en soins infirmiers du Centre hospitalier', 48.3836, 2.95065, 0.4509815766747017], ['Lycee polyvalent Leonard de Vinci', 48.5524, 2.65908, 0.4562413904941084], ['Lycee Pierre Mendès France', 48.5965, 2.57648, 0.497056777843334], [\"Institut catholique d'arts et metiers - site de Paris-Senart - ICAM ouvert\", 48.613562040293, 2.5382333993912, 0.5172630686417422], ['Lycee polyvalent Saint Leon', 48.6092, 2.4826, 0.5225585134700227], ['Ecole departementale de theâtre', 48.6110594, 2.4778094, 0.525463845622818]]\n"
     ]
    },
    {
     "name": "stderr",
     "output_type": "stream",
     "text": [
      "127.0.0.1 - - [26/Mar/2021 15:36:22] \"\u001b[37mPOST /result/ HTTP/1.1\u001b[0m\" 200 -\n"
     ]
    }
   ],
   "source": [
    "app = Flask(__name__, template_folder='templates', static_url_path=\"/static\", static_folder='static')\n",
    "\n",
    "@app.route('/')\n",
    "def home():\n",
    "    return render_template(\"main.html\")\n",
    "\n",
    "@app.route('/result/', methods = ['POST'])\n",
    "def predictSite():\n",
    "    # Gathering input data\n",
    "    if request.form['latitude'] == '':\n",
    "        latitude = 46.30\n",
    "    else:\n",
    "        latitude = float(request.form['latitude'])\n",
    "    if request.form['longitude'] == '':\n",
    "        longitude = 2.30\n",
    "    else:\n",
    "        longitude = float(request.form['longitude'])\n",
    "    if request.form['departement'] == '':\n",
    "        departement = None\n",
    "    else:\n",
    "        departement = request.form['departement']\n",
    "    if request.form['type_query'] == '':\n",
    "        type_query = None\n",
    "    else:\n",
    "        type_request = request.form['type_query']\n",
    "    data = [longitude, latitude, departement, type_request]\n",
    "    type_text = ''\n",
    "    if type_request == 'tgv_station':\n",
    "        type_text = 'TGV stations'\n",
    "    elif type_request == 'university':\n",
    "        type_text = 'Universities'\n",
    "    elif type_request == 'both':\n",
    "        type_text = 'TGV stations and Universities'\n",
    "    # Calculating by position\n",
    "    output = GetStarting(latitude, longitude, departement, type_request)\n",
    "    return render_template(\"result.html\", output_text=output[0], output_map=output[1], latitude=latitude, longitude=longitude, type_text=type_text)\n",
    "\n",
    "if __name__ == '__main__':\n",
    "    app.run(debug = False, host='127.0.0.1')"
   ]
  },
  {
   "cell_type": "code",
   "execution_count": null,
   "metadata": {},
   "outputs": [],
   "source": []
  },
  {
   "cell_type": "code",
   "execution_count": null,
   "metadata": {},
   "outputs": [],
   "source": []
  }
 ],
 "metadata": {
  "kernelspec": {
   "display_name": "Python 3",
   "language": "python",
   "name": "python3"
  },
  "language_info": {
   "codemirror_mode": {
    "name": "ipython",
    "version": 3
   },
   "file_extension": ".py",
   "mimetype": "text/x-python",
   "name": "python",
   "nbconvert_exporter": "python",
   "pygments_lexer": "ipython3",
   "version": "3.8.3"
  }
 },
 "nbformat": 4,
 "nbformat_minor": 4
}
