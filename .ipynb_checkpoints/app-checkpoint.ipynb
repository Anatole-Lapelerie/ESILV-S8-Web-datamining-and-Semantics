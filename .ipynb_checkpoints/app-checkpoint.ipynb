{
 "cells": [
  {
   "cell_type": "code",
   "execution_count": 8,
   "metadata": {},
   "outputs": [],
   "source": [
    "# Importation des bibliothèques\n",
    "import matplotlib.pyplot as plt\n",
    "import matplotlib.style as style\n",
    "import matplotlib.gridspec as gridspec\n",
    "import numpy as np\n",
    "import pandas as pd\n",
    "import seaborn as sns\n",
    "from scipy import stats\n",
    "\n",
    "from math import *\n",
    "\n",
    "import tensorflow as tf\n",
    "from tensorflow import keras\n",
    "from tensorflow.keras import layers\n",
    "from tensorflow.keras.layers.experimental import preprocessing"
   ]
  },
  {
   "cell_type": "code",
   "execution_count": 6,
   "metadata": {},
   "outputs": [],
   "source": [
    "def getTrainStationByPosition(latt, long, departement, type_request):\n",
    "    \n",
    "    g = rdflib.Graph()\n",
    "    g.namespace_manager.bind('rdf', Namespace('http://www.w3.org/1999/02/22-rdf-syntax-ns#'))\n",
    "    g.namespace_manager.bind('rdfs', Namespace('http://www.w3.org/2000/01/rdf-schema#'))\n",
    "    g.namespace_manager.bind('owl', Namespace('http://www.w3.org/2002/07/owl#'))\n",
    "    g.namespace_manager.bind('tgv', Namespace('http://www.owl-ontologies.com/unnamed.owl#'))\n",
    "    g.parse(\"data/gares-tgv/gares.owl\")\n",
    "    query = 'SELECT DISTINCT ?lat ?long ?nomGare  WHERE { ?gare tgv:Latitude ?lat . ?gare tgv:Longitude ?long . ?gare tgv:Nom_Gare ?nomGare }'\n",
    "    res = g.query(query)\n",
    "    \n",
    "    response = []\n",
    "    euclid = []\n",
    "    \n",
    "    for row in res:\n",
    "       element =  row.asdict()\n",
    "       response.append([element['nomGare'].toPython(),element['lat'].toPython(),element['long'].toPython()])\n",
    "    for elt in response:\n",
    "        euclid.append(sqrt( (latt - elt[1])**2 + (long - elt[2])**2))\n",
    "    for i in range(len(euclid)):\n",
    "        response[i].append(euclid[i])\n",
    "    response = sorted(response, key=itemgetter(3))\n",
    "    \n",
    "    ToHtml = \"\"\n",
    "    ToJs = \"\"\n",
    "\n",
    "    response = response[:10]\n",
    "    for i in range(len(response)):\n",
    "        ToHtml += \"<li><b>\" + str(response[i][0]) + \"</b> — lat: \"  + str(response[i][1]) + \"; lon: \" + str(response[i][2]) + \" — \" + str(round(response[i][3]*111, 2)) + \" km</li>\"\n",
    "        ToJs += \"L.marker([\" + str(response[i][1]) + \", \" + str(response[i][2]) + \"]).addTo(mymap).bindPopup('TGV station<br><b>\" + str(response[i][0]) + \"</b><br>lat. \" + str(response[i][1]) + \"; lon: \" + str(response[i][2]) + \"<br>\" + str(round(response[i][3]*111, 2)) + \" km away');\\n\"\n",
    "\n",
    "    return (ToHtml, ToJs)"
   ]
  },
  {
   "cell_type": "markdown",
   "metadata": {},
   "source": [
    "## Api Flask"
   ]
  },
  {
   "cell_type": "code",
   "execution_count": 2,
   "metadata": {},
   "outputs": [],
   "source": [
    "from flask import Flask, request, render_template, redirect, url_for, flash, jsonify\n",
    "\n",
    "import pickle\n",
    "import json\n",
    "\n",
    "import rdflib\n",
    "from math import *\n",
    "from rdflib import Namespace\n",
    "import sys\n",
    "from operator import itemgetter"
   ]
  },
  {
   "cell_type": "code",
   "execution_count": 7,
   "metadata": {},
   "outputs": [
    {
     "name": "stdout",
     "output_type": "stream",
     "text": [
      " * Serving Flask app \"__main__\" (lazy loading)\n",
      " * Environment: production\n",
      "   WARNING: This is a development server. Do not use it in a production deployment.\n",
      "   Use a production WSGI server instead.\n",
      " * Debug mode: off\n"
     ]
    },
    {
     "name": "stderr",
     "output_type": "stream",
     "text": [
      " * Running on http://127.0.0.1:5000/ (Press CTRL+C to quit)\n",
      "127.0.0.1 - - [26/Mar/2021 14:01:52] \"\u001b[37mGET / HTTP/1.1\u001b[0m\" 200 -\n"
     ]
    },
    {
     "name": "stdout",
     "output_type": "stream",
     "text": [
      "PARAM\n"
     ]
    },
    {
     "name": "stderr",
     "output_type": "stream",
     "text": [
      "127.0.0.1 - - [26/Mar/2021 14:01:59] \"\u001b[37mPOST /result/ HTTP/1.1\u001b[0m\" 200 -\n"
     ]
    }
   ],
   "source": [
    "app = Flask(__name__, template_folder='templates', static_url_path=\"/static\", static_folder='static')\n",
    "\n",
    "@app.route('/')\n",
    "def home():\n",
    "    return render_template(\"main.html\")\n",
    "\n",
    "@app.route('/result/', methods = ['POST'])\n",
    "def predictSite():\n",
    "    # Gathering input data\n",
    "    latitude = float(request.form['latitude'])\n",
    "    longitude = float(request.form['longitude'])\n",
    "    departement = float(request.form['longitude'])\n",
    "    type_request = request.form['type_query']\n",
    "    data = [longitude, latitude, type_request]\n",
    "    type_text = ''\n",
    "    if type_request == 'tgv_station':\n",
    "        type_text = 'TGV stations'\n",
    "    elif type_request == 'university':\n",
    "        type_text = 'Universities'\n",
    "    elif type_request == 'both':\n",
    "        type_text = 'TGV stations and Universities'\n",
    "    # Calculating by position\n",
    "    output = getTrainStationByPosition(latitude, longitude)\n",
    "    return render_template(\"result.html\", output_text=output[0], output_map=output[1], latitude=latitude, longitude=longitude, type_text=type_text)\n",
    "\n",
    "if __name__ == '__main__':\n",
    "    app.run(debug = False, host='127.0.0.1')"
   ]
  },
  {
   "cell_type": "code",
   "execution_count": null,
   "metadata": {},
   "outputs": [],
   "source": []
  },
  {
   "cell_type": "code",
   "execution_count": null,
   "metadata": {},
   "outputs": [],
   "source": []
  }
 ],
 "metadata": {
  "kernelspec": {
   "display_name": "Python 3",
   "language": "python",
   "name": "python3"
  },
  "language_info": {
   "codemirror_mode": {
    "name": "ipython",
    "version": 3
   },
   "file_extension": ".py",
   "mimetype": "text/x-python",
   "name": "python",
   "nbconvert_exporter": "python",
   "pygments_lexer": "ipython3",
   "version": "3.8.3"
  }
 },
 "nbformat": 4,
 "nbformat_minor": 4
}
